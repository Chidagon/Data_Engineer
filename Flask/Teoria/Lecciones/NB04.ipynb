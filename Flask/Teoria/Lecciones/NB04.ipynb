{
 "cells": [
  {
   "attachments": {},
   "cell_type": "markdown",
   "metadata": {},
   "source": [
    "## Login en Flask"
   ]
  },
  {
   "attachments": {},
   "cell_type": "markdown",
   "metadata": {},
   "source": [
    " El control de acceso a nuestra aplicación debe implementarse adecuadamente, ya que, en gran medida, de él depende parte de la seguridad de nuestra aplicación."
   ]
  },
  {
   "attachments": {},
   "cell_type": "markdown",
   "metadata": {},
   "source": [
    "Es necesario crear un modelo que representa a los usuarios de la aplicación y el formulario de login."
   ]
  },
  {
   "attachments": {},
   "cell_type": "markdown",
   "metadata": {},
   "source": [
    "### Flask-login"
   ]
  },
  {
   "attachments": {},
   "cell_type": "markdown",
   "metadata": {},
   "source": [
    "¿Qué nos ofrece Flask-login? Entre otras cosas:\n",
    "\n",
    "- Almacenar el ID del usuario en la sesión y mecanismos para hacer login y logout.\n",
    "- Restringir el acceso a ciertas vistas únicamente a los usuarios autenticados.\n",
    "- Gestionar la funcionalidad Recuérdame para mantener la sesión incluso después de que el usuario cierre el navegador.\n",
    "- Proteger el acceso a las cookies de sesión frente a terceros."
   ]
  },
  {
   "attachments": {},
   "cell_type": "markdown",
   "metadata": {},
   "source": [
    "> pip install flask-login"
   ]
  },
  {
   "cell_type": "code",
   "execution_count": null,
   "metadata": {},
   "outputs": [],
   "source": [
    "from flask_login import LoginManager\n",
    "...\n",
    "app = Flask(__name__)\n",
    "app.config['SECRET_KEY'] = '7110c8ae51a4b5af97be6534caef90e4bb9bdcb3380af008f90b23a5d1616bf319bc298105da20fe'\n",
    "login_manager = LoginManager(app)"
   ]
  },
  {
   "attachments": {},
   "cell_type": "markdown",
   "metadata": {},
   "source": [
    "Crear el modelo User"
   ]
  },
  {
   "attachments": {},
   "cell_type": "markdown",
   "metadata": {},
   "source": [
    "Esta clase representa a los usuarios de nuestra aplicación. Además, contiene toda la lógica para crear usuarios, guardar las contraseñas de modo seguro o verificar los passwords."
   ]
  },
  {
   "attachments": {},
   "cell_type": "markdown",
   "metadata": {},
   "source": [
    "Un punto a favor de la extensión Flask-login es que te da libertad para definir tu clase para los usuarios. Esto hace posible que se pueda utilizar cualquier sistema de base de datos y que modifiquemos el modelo en función de las necesidades que vayan surgiendo. El único requisito indicado por Flask-login es que la clase usuario debe implementar las siguientes propiedades y métodos:"
   ]
  },
  {
   "attachments": {},
   "cell_type": "markdown",
   "metadata": {},
   "source": [
    "- `is_authenticated`: una propiedad que es True si el usuario se ha autenticado y False en caso contrario.\n",
    "- `is_active`: una propiedad que indica si la cuenta del usuario está activa (True) o no (False). Es decisión tuya definir qué significa que una cuenta de usuario está activa. Por ejemplo, se ha verificado el email o no ha sido eliminada por un administrador. Por defecto, los usuarios de cuentas inactivas no pueden autenticarse.\n",
    "- `is_anonymous`: una propiedad que vale False para los usuarios reales y True para los usuarios anónimos.\n",
    "- `get_id()`: un método que devuelve un string (unicode en caso de Python 2) con el ID único del usuario. Si el ID del usuario fuera int o cualquier otro tipo, es tu responsabilidad convertirlo a string."
   ]
  },
  {
   "cell_type": "code",
   "execution_count": null,
   "metadata": {},
   "outputs": [],
   "source": [
    "from flask_login import UserMixin\n",
    "from werkzeug.security import generate_password_hash, check_password_hash\n",
    "class User(UserMixin):\n",
    "    def __init__(self, id, name, email, password, is_admin=False):\n",
    "        self.id = id\n",
    "        self.name = name\n",
    "        self.email = email\n",
    "        self.password = generate_password_hash(password)\n",
    "        self.is_admin = is_admin\n",
    "    def set_password(self, password):\n",
    "        self.password = generate_password_hash(password)\n",
    "    def check_password(self, password):\n",
    "        return check_password_hash(self.password, password)\n",
    "    def __repr__(self):\n",
    "        return '<User {}>'.format(self.email)"
   ]
  },
  {
   "attachments": {},
   "cell_type": "markdown",
   "metadata": {},
   "source": [
    "### Guardar las contraseñas"
   ]
  },
  {
   "attachments": {},
   "cell_type": "markdown",
   "metadata": {},
   "source": [
    " Las contraseñas de los usuarios no las guardaremos en exactas. Esto sería un problema de seguridad. En su lugar, guardaremos un hash del password. Para ello, nos valdremos de la librería `werkzeug.security`"
   ]
  },
  {
   "attachments": {},
   "cell_type": "markdown",
   "metadata": {},
   "source": [
    "### Listado de usuarios"
   ]
  },
  {
   "attachments": {},
   "cell_type": "markdown",
   "metadata": {},
   "source": [
    "Por el momento como no tenemos base de datos los usuarios los almacenaremos en una lista de usuarios almacenada en memoria que llamaremos users (esto no es útil ya que los usuarios que guardemos se borrarán al reiniciar el servidor pero nos servirá para esta lección)."
   ]
  },
  {
   "cell_type": "code",
   "execution_count": null,
   "metadata": {},
   "outputs": [],
   "source": [
    "users = []\n",
    "def get_user(email):\n",
    "    for user in users:\n",
    "        if user.email == email:\n",
    "            return user\n",
    "    return None"
   ]
  },
  {
   "attachments": {},
   "cell_type": "markdown",
   "metadata": {},
   "source": [
    "### Cargar el modelo"
   ]
  },
  {
   "attachments": {},
   "cell_type": "markdown",
   "metadata": {},
   "source": [
    "¿Cómo podemos acceder en nuestro código al usuario cuyo ID se encuentra almacenado en sesión? Fácil, implementando un callback que será llamado por el método user_loader del objeto login_manager."
   ]
  },
  {
   "attachments": {},
   "cell_type": "markdown",
   "metadata": {},
   "source": [
    "El callback toma como parámetro un string con el ID del usuario que se encuentra en sesión y debe devolver el correspondiente objeto User o None si el ID no es válido. No lances una excepción si no puedes devolver un usuario a partir del ID."
   ]
  },
  {
   "cell_type": "code",
   "execution_count": null,
   "metadata": {},
   "outputs": [],
   "source": [
    "@login_manager.user_loader\n",
    "def load_user(user_id):\n",
    "    for user in users:\n",
    "        if user.id == int(user_id):\n",
    "            return user\n",
    "    return None"
   ]
  },
  {
   "attachments": {},
   "cell_type": "markdown",
   "metadata": {},
   "source": [
    "users hace referencia a la lista de usuarios que definimos en el módulo models.py. Recuerda importarla previamente antes de hacer uso de ella."
   ]
  },
  {
   "cell_type": "code",
   "execution_count": null,
   "metadata": {},
   "outputs": [],
   "source": [
    "from models import users"
   ]
  },
  {
   "attachments": {},
   "cell_type": "markdown",
   "metadata": {},
   "source": [
    "### Login de usuarios"
   ]
  },
  {
   "attachments": {},
   "cell_type": "markdown",
   "metadata": {},
   "source": [
    "Ahora toca el turno de crear el formulario para que los usuarios de nuestro blog se puedan autenticar (para poder comentar los posts). Vamos a dividir este proceso en tres fases: crear la clase del formulario, crear la plantilla HTML e implementar la vista que realiza el login."
   ]
  },
  {
   "attachments": {},
   "cell_type": "markdown",
   "metadata": {},
   "source": [
    "### Clase para el formulario de login"
   ]
  },
  {
   "cell_type": "code",
   "execution_count": null,
   "metadata": {},
   "outputs": [],
   "source": [
    "class LoginForm(FlaskForm):\n",
    "    email = StringField('Email', validators=[DataRequired()])\n",
    "    password = PasswordField('Password', validators=[DataRequired()])\n",
    "    remember_me = BooleanField('Recuérdame')\n",
    "    submit = SubmitField('Login')"
   ]
  },
  {
   "attachments": {},
   "cell_type": "markdown",
   "metadata": {},
   "source": [
    "El campo remember_me es de tipo BooleanField. Deberás importarlo junto al resto de tipos que importamos en la lección anterior. Lo utilizaremos para dar la posibilidad al usuario de mantener la sesión incluso después de cerrar el navegador."
   ]
  },
  {
   "attachments": {},
   "cell_type": "markdown",
   "metadata": {},
   "source": [
    "### Plantilla HTML para el formulario"
   ]
  },
  {
   "cell_type": "code",
   "execution_count": null,
   "metadata": {},
   "outputs": [],
   "source": [
    "{% extends \"base_template.html\" %}\n",
    "{% block title %}Login{% endblock %}\n",
    "{% block content %}\n",
    "    <div>\n",
    "        <form action=\"\" method=\"post\" novalidate>\n",
    "            {{ form.hidden_tag() }}\n",
    "            <div>\n",
    "                {{ form.email.label }}\n",
    "                {{ form.email }}<br>\n",
    "                {% for error in form.email.errors %}\n",
    "                <span style=\"color: red;\">{{ error }}</span>\n",
    "                {% endfor %}\n",
    "            </div>\n",
    "            <div>\n",
    "                {{ form.password.label }}\n",
    "                {{ form.password }}<br>\n",
    "                {% for error in form.password.errors %}\n",
    "                <span style=\"color: red;\">{{ error }}</span>\n",
    "                {% endfor %}\n",
    "            </div>\n",
    "            <div>{{ form.remember_me() }} {{ form.remember_me.label }}</div>\n",
    "            <div>\n",
    "                {{ form.submit() }}\n",
    "            </div>\n",
    "        </form>\n",
    "    </div>\n",
    "    <div>¿No tienes cuenta? <a href=\"{{ url_for('show_signup_form') }}\">Regístrate</a></div>\n",
    "{% endblock %}\n"
   ]
  },
  {
   "attachments": {},
   "cell_type": "markdown",
   "metadata": {},
   "source": [
    "### La vista para realizar el login"
   ]
  },
  {
   "attachments": {},
   "cell_type": "markdown",
   "metadata": {},
   "source": [
    "Debemos implementar la vista que muestre el formulario de login y compruebe si las credenciales proporcionadas por el usuario son válidas o no. Añade la siguiente función al final del fichero run.py:"
   ]
  },
  {
   "cell_type": "code",
   "execution_count": null,
   "metadata": {},
   "outputs": [],
   "source": [
    "from werkzeug.urls import url_parse\n",
    "\n",
    "@app.route('/login', methods=['GET', 'POST'])\n",
    "def login():\n",
    "    if current_user.is_authenticated:\n",
    "        return redirect(url_for('index'))\n",
    "    form = LoginForm()\n",
    "    if form.validate_on_submit():\n",
    "        user = get_user(form.email.data)\n",
    "        if user is not None and user.check_password(form.password.data):\n",
    "            login_user(user, remember=form.remember_me.data)\n",
    "            next_page = request.args.get('next')\n",
    "            if not next_page or url_parse(next_page).netloc != '':\n",
    "                next_page = url_for('index')\n",
    "            return redirect(next_page)\n",
    "    return render_template('login_form.html', form=form)"
   ]
  },
  {
   "attachments": {},
   "cell_type": "markdown",
   "metadata": {},
   "source": [
    "- En primer lugar comprobamos si el usuario actual ya está autenticado. Para ello nos valemos de la instancia current_user de Flask-login. El valor de current_user será un objeto usuario si este está autenticado (el que se obtiene en el callback user_loader) o un usuario anónimo en caso contrario. Si el usuario ya está autenticado no tiene sentido que se vuelva a loguear, por lo que lo redirigimos a la página principal.\n",
    "- A continuación comprobamos si los datos enviados en el formulario son válidos. En ese caso, intentamos recuperar el usuario a partir del email con get_user().\n",
    "- Si existe un usuario con dicho email y la contraseña coincide, procedemos a autenticar al usuario llamando al método login_user de Flask-login.\n",
    "- Por último comprobamos si recibimos el parámetro next. Esto sucederá cuando el usuario ha intentado acceder a una página protegida pero no estaba autenticado. Por temas de seguridad, solo tendremos en cuenta dicho parámetro si la ruta es relativa. De este modo evitamos redirigir al usuario a un sitio fuera de nuestro dominio. Si no se recibe el parámetro next o este no contiene una ruta relativa, redirigimos al usuario a la página de inicio."
   ]
  },
  {
   "attachments": {},
   "cell_type": "markdown",
   "metadata": {},
   "source": [
    "### Logout"
   ]
  },
  {
   "attachments": {},
   "cell_type": "markdown",
   "metadata": {},
   "source": [
    "Cerrar la sesión en la misma"
   ]
  },
  {
   "cell_type": "code",
   "execution_count": null,
   "metadata": {},
   "outputs": [],
   "source": [
    "@app.route('/logout')\n",
    "def logout():\n",
    "    logout_user()\n",
    "    return redirect(url_for('index'))"
   ]
  },
  {
   "attachments": {},
   "cell_type": "markdown",
   "metadata": {},
   "source": [
    "<div>\n",
    "    <a href=\"../Flask.py\">\n",
    "        <img src=\"../img/return.png\" alt=\"return\" title=\"return\" width=\"75\" style=\"float: left;\" />\n",
    "    </a>\n",
    "    <a href=\"./NB05.ipynb\">\n",
    "        <img src=\"../img/forward.png\" alt=\"forward\" title=\"forward\" width=\"75\" style=\"float: right;\" />\n",
    "    </a>\n",
    "</div>"
   ]
  }
 ],
 "metadata": {
  "language_info": {
   "name": "python"
  },
  "orig_nbformat": 4
 },
 "nbformat": 4,
 "nbformat_minor": 2
}
