{
 "cells": [
  {
   "attachments": {},
   "cell_type": "markdown",
   "metadata": {},
   "source": [
    "# Organización del Proyecto"
   ]
  },
  {
   "attachments": {},
   "cell_type": "markdown",
   "metadata": {},
   "source": [
    "Flask no te ayuda a organizar los archivos de tu aplicación. Todo el código\n",
    "debe estar contenido en una sola carpeta, o podría estar distribuido entre\n",
    "numerosos paquetes. Usted puede agilizar el desarrollo y despliegue de software\n",
    "siguiendo algunos patrones de organización.\n",
    "Utilizaremos diferentes palabras en este capítulo, así que veamos algunas de ellas.\n",
    "- Repositorio - Esta es la carpeta de tu programa en el servidor. Versión\n",
    "sistemas de control de versiones.\n",
    "- Paquete: Esta es una librería Python que contiene el código para tu aplicación.\n",
    "La creación de un paquete para tu proyecto se cubrirá en mayor detalle más adelante en\n",
    "más adelante en este capítulo, así que sepa que es un subdirectorio de su repositorio.\n",
    "- Módulo: Un módulo es un archivo Python que otros archivos Python pueden importar. A\n",
    "paquete no es más que una colección de módulos relacionados.\n"
   ]
  },
  {
   "attachments": {},
   "cell_type": "markdown",
   "metadata": {},
   "source": [
    "## Patrones de organización\n",
    "La mayoría de los ejemplos de Flask tendrán todo el código en un único archivo, normalmente llamado\n",
    "app.py. Esto funciona bien para proyectos pequeños con un número limitado de rutas\n",
    "y menos de unos pocos cientos de líneas de código de aplicación, como los utilizados\n",
    "para tutoriales."
   ]
  },
  {
   "attachments": {},
   "cell_type": "markdown",
   "metadata": {},
   "source": [
    "```\n",
    "app.py\n",
    "config.py\n",
    "requirements.txt\n",
    "static/\n",
    "templates/\n",
    "```"
   ]
  },
  {
   "attachments": {},
   "cell_type": "markdown",
   "metadata": {},
   "source": [
    "Cuando estás trabajando en un proyecto que es un poco más complicado, un solo\n",
    "puede volverse muy complicado. Las clases para modelos y formularios deben ser definidas, y\n",
    "se mezclarán con la secuencia de comandos para sus rutas y configuración. Todo esto\n",
    "esto puede ralentizar el progreso. Para resolver este problema, podemos separar las\n",
    "diferentes partes de nuestra aplicación en un conjunto de módulos que trabajan juntos. Esto se llama\n",
    "paquete."
   ]
  },
  {
   "attachments": {},
   "cell_type": "markdown",
   "metadata": {},
   "source": [
    "```\n",
    "config.py\n",
    "requirements.py\n",
    "run.py\n",
    "instance/\n",
    "    config.py\n",
    "yourapp/\n",
    "    __init__.py\n",
    "    views.py\n",
    "    models.py\n",
    "    forms.py\n",
    "    static/\n",
    "    templates/\n",
    "```"
   ]
  },
  {
   "attachments": {},
   "cell_type": "markdown",
   "metadata": {},
   "source": [
    "La estructura de este listado le permite agrupar las diferentes partes de su aplicación de forma que tenga sentido.\n",
    "una forma que tenga sentido. Las definiciones de clases modelo se agrupan en\n",
    "models. Las definiciones de rutas y formularios están en views.py. y forms.py,\n",
    "respectivamente (tenemos un capítulo entero para formularios más adelante).\n",
    "\n",
    "Esta tabla ofrece un desglose de las partes incluidas en la mayoría de los proyectos Flask\n",
    "de Flask. Es probable que tengas muchos archivos adicionales en tu repositorio, típicos\n",
    "de las aplicaciones Flask."
   ]
  },
  {
   "attachments": {},
   "cell_type": "markdown",
   "metadata": {},
   "source": [
    "| Archivo | Descripción | \n",
    "| --------- | --------- | \n",
    "| run.py    | Este archivo se ejecuta para lanzar un servidor de desarrollo. Obtiene una copia de la aplicación del paquete y la ejecuta. No se utilizará en producción, pero se utiliza mucho durante la fase de desarrollo.  |\n",
    "|  requirements.txt  | Este archivo enumera todos los paquetes de Python de los que depende su aplicación. Usted puede tener archivos diferentes para desarrollo y producción.  |\n",
    "|config.py| Este archivo contiene la mayoría de las variables que su proyecto necesita para configuración. |\n",
    "|/instance/config.py| Este archivo incluye variables de  configuración de configuración que no deben ser por el control de versiones. Esto incluye API y URIs de bases de datos con contraseñas incrustadas. Además, esto contiene variables únicas para esta instancia de su programa. Para ejemplo, puede tener DEBUG = False en config.py pero DEBUG = True en instance/config.py en su sistema de desarrollo local. Porque este archivo será |\n",
    "|/yourapp/|Este es el paquete que contiene su aplicación.|\n",
    "|/yourapp/__init__.py|Este archivo inicializa su aplicación y ensambla sus diversos componentes.|\n",
    "|/yourapp/views.py|Aquí es donde se definen las rutas se realizan. Puede separarse en su paquete (yourapp/views/), con vistas relacionadas organizadas en módulos.|\n",
    "|/yourapp/models.py|Aquí es donde se definen los los modelos de la aplicación. De forma similar a views.py, esto puede separarse en muchos modules.py.|\n",
    "|/yourapp/static/|Este directorio contiene CSS, JavaScript, imágenes y otros archivos que desea hacer públicos a través de su aplicación. Es accesible desde yourapp.com/static/ por defecto.|\n",
    "|/yourapp/templates/|Aquí es donde pondrás las plantillas Jinja2 para tu aplicación.|"
   ]
  },
  {
   "attachments": {},
   "cell_type": "markdown",
   "metadata": {},
   "source": [
    "<div>\n",
    "    <a href=\"../Flask.py\">\n",
    "        <img src=\"../img/return.png\" alt=\"return\" title=\"return\" width=\"75\" style=\"float: left;\" />\n",
    "    </a>\n",
    "    <a href=\"./NB03.ipynb\">\n",
    "        <img src=\"../img/forward.png\" alt=\"forward\" title=\"forward\" width=\"75\" style=\"float: right;\" />\n",
    "    </a>\n",
    "</div>"
   ]
  }
 ],
 "metadata": {
  "language_info": {
   "name": "python"
  },
  "orig_nbformat": 4
 },
 "nbformat": 4,
 "nbformat_minor": 2
}
